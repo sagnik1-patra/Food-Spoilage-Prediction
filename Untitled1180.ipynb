{
 "cells": [
  {
   "cell_type": "code",
   "execution_count": 3,
   "id": "52cd0884-ff88-43fc-8f26-2abacd49c632",
   "metadata": {},
   "outputs": [
    {
     "name": "stderr",
     "output_type": "stream",
     "text": [
      "WARNING:absl:Compiled the loaded model, but the compiled metrics have yet to be built. `model.compile_metrics` will be empty until you train or evaluate the model.\n"
     ]
    },
    {
     "name": "stdout",
     "output_type": "stream",
     "text": [
      "\u001b[1m1/1\u001b[0m \u001b[32m━━━━━━━━━━━━━━━━━━━━\u001b[0m\u001b[37m\u001b[0m \u001b[1m2s\u001b[0m 2s/step\n",
      "Prediction: rottenapples (71.55% confidence)\n"
     ]
    }
   ],
   "source": [
    "import os\n",
    "import pickle\n",
    "import numpy as np\n",
    "from tensorflow.keras.models import load_model\n",
    "from tensorflow.keras.preprocessing import image\n",
    "\n",
    "# ================================\n",
    "# Paths\n",
    "# ================================\n",
    "save_dir = r\"C:\\Users\\sagni\\Downloads\\food spoilage prediction\"\n",
    "model_path = os.path.join(save_dir, \"food_spoilage_model.h5\")\n",
    "label_encoder_path = os.path.join(save_dir, \"label_encoder.pkl\")\n",
    "\n",
    "# Load model\n",
    "model = load_model(model_path)\n",
    "\n",
    "# Load label encoder\n",
    "with open(label_encoder_path, \"rb\") as f:\n",
    "    label_encoder = pickle.load(f)\n",
    "\n",
    "# ================================\n",
    "# Prediction Function\n",
    "# ================================\n",
    "def predict_image(img_path):\n",
    "    img_size = 224  # same as training\n",
    "    img = image.load_img(img_path, target_size=(img_size, img_size))\n",
    "    img_array = image.img_to_array(img)\n",
    "    img_array = np.expand_dims(img_array, axis=0) / 255.0\n",
    "\n",
    "    preds = model.predict(img_array)\n",
    "    pred_index = np.argmax(preds)\n",
    "    pred_label = label_encoder.inverse_transform([pred_index])[0]\n",
    "    confidence = preds[0][pred_index] * 100\n",
    "\n",
    "    print(f\"Prediction: {pred_label} ({confidence:.2f}% confidence)\")\n",
    "\n",
    "# ================================\n",
    "# Predict on your new image\n",
    "# ================================\n",
    "new_image_path = r\"C:\\Users\\sagni\\Downloads\\food spoilage prediction\\rotten-tomatoes-on-the-white-background-EB51PP.jpg\"\n",
    "predict_image(new_image_path)\n"
   ]
  },
  {
   "cell_type": "code",
   "execution_count": null,
   "id": "7e3e8953-9931-4a58-b3f9-a3ef7110e4eb",
   "metadata": {},
   "outputs": [],
   "source": []
  }
 ],
 "metadata": {
  "kernelspec": {
   "display_name": "Python 3.11 (moviepy)",
   "language": "python",
   "name": "py311"
  },
  "language_info": {
   "codemirror_mode": {
    "name": "ipython",
    "version": 3
   },
   "file_extension": ".py",
   "mimetype": "text/x-python",
   "name": "python",
   "nbconvert_exporter": "python",
   "pygments_lexer": "ipython3",
   "version": "3.11.9"
  }
 },
 "nbformat": 4,
 "nbformat_minor": 5
}
